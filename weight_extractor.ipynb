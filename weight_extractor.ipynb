{
 "cells": [
  {
   "cell_type": "markdown",
   "metadata": {},
   "source": [
    "## Feature Extraction"
   ]
  },
  {
   "cell_type": "code",
   "execution_count": 1,
   "metadata": {},
   "outputs": [],
   "source": [
    "from chevy.features import KingSafety, PawnStructure, BoardFeatures\n",
    "\n",
    "class FeatureExtractor:\n",
    "    def __init__(self, board):\n",
    "        self.board = board\n",
    "        self.king_features = [\n",
    "            \"king_mobility\", \"king_centrality\", \"king_attackers_looking_at_ring_1\",\n",
    "            \"king_defenders_at_ring_1\", \"checked\", \"castling_rights\"\n",
    "        ]\n",
    "        self.pawn_features = [\n",
    "            \"passed_pawns\", \"isolated_pawns\", \"blocked_pawns\", \"central_pawns\"\n",
    "        ]\n",
    "        self.board_features = [\n",
    "            \"bishop_pair\", \"fianchetto_queen\", \"fianchetto_king\", \"queens_mobility\",\n",
    "            \"open_files_rooks_count\", \"connected_rooks\", \"connectivity\"\n",
    "        ]\n",
    "\n",
    "    def extract_features(self, color):\n",
    "        \"\"\"Extract all positional features for the current board state.\"\"\"\n",
    "        king_features = KingSafety(self.board, color=color)\n",
    "        pawn_features = PawnStructure(self.board, color=color)\n",
    "        board_features = BoardFeatures(self.board, color=color)\n",
    "\n",
    "        feature_values = []\n",
    "        for feature in self.king_features:\n",
    "            value = getattr(king_features, feature)\n",
    "            feature_values.append((feature, value))\n",
    "\n",
    "        for feature in self.pawn_features:\n",
    "            value = getattr(pawn_features, feature)\n",
    "            feature_values.append((feature, value))\n",
    "\n",
    "        for feature in self.board_features:\n",
    "            value = getattr(board_features, feature)\n",
    "            feature_values.append((feature, value))\n",
    "\n",
    "        numerical_features = {}\n",
    "        for feature, value in feature_values:\n",
    "            if isinstance(value, int):\n",
    "                numerical_features[feature] = value\n",
    "            elif isinstance(value, list):\n",
    "                array_sum = sum(value)\n",
    "                numerical_features[feature] = array_sum\n",
    "\n",
    "        return numerical_features\n"
   ]
  },
  {
   "cell_type": "code",
   "execution_count": 2,
   "metadata": {},
   "outputs": [
    {
     "name": "stdout",
     "output_type": "stream",
     "text": [
      "Fetched 6640 games from data/1.pgn.\n"
     ]
    },
    {
     "name": "stderr",
     "output_type": "stream",
     "text": [
      "Processing PGN File: 100%|██████████| 6640/6640 [8:12:43<00:00,  4.45s/it]   \n"
     ]
    },
    {
     "name": "stdout",
     "output_type": "stream",
     "text": [
      "Fetched 6430 games from data/2.pgn.\n"
     ]
    },
    {
     "name": "stderr",
     "output_type": "stream",
     "text": [
      "Processing PGN File:  90%|████████▉ | 5781/6430 [7:16:49<38:19,  3.54s/it]   "
     ]
    }
   ],
   "source": [
    "import chess\n",
    "import chess.engine\n",
    "import pandas as pd\n",
    "from tqdm import tqdm\n",
    "\n",
    "engine = chess.engine.SimpleEngine.popen_uci(\"stockfish.exe\") \n",
    "\n",
    "def evaluate_position(board):\n",
    "    info = engine.analyse(board, chess.engine.Limit(time=0.05))\n",
    "    return info[\"score\"].relative.score(mate_score=10000) if \"score\" in info else None\n",
    "\n",
    "\n",
    "def process_pgn_file(file_path):\n",
    "    file = open(file_path)\n",
    "    games = []\n",
    "    while True:\n",
    "        game = chess.pgn.read_game(file)\n",
    "        if game is None:\n",
    "            break\n",
    "        games.append(game)\n",
    "    print(f\"Fetched {len(games)} games from {file_path}.\")\n",
    "    \n",
    "    with tqdm(total=len(games), desc=\"Processing PGN File\") as pbar:\n",
    "        positions = []\n",
    "        for game in games:\n",
    "            board = game.board()\n",
    "            feature_extractor = FeatureExtractor(board)\n",
    "            for move in game.mainline_moves():\n",
    "                board.push(move)\n",
    "                features = feature_extractor.extract_features(chess.WHITE)\n",
    "                evaluation = evaluate_position(board)\n",
    "                if evaluation is not None:\n",
    "                    features[\"evaluation_score\"] = evaluation\n",
    "                    positions.append(features)\n",
    "            pbar.update(1)\n",
    "    return positions\n",
    "\n",
    "all_positions = []\n",
    "for file_path in [\"data/1.pgn\", \"data/2.pgn\", \"data/3.pgn\"]:\n",
    "    all_positions.extend(process_pgn_file(file_path))\n",
    "\n",
    "df = pd.DataFrame(all_positions)\n",
    "df.to_csv(\"data/chess_positions.csv\", index=False)\n",
    "\n",
    "engine.quit()"
   ]
  },
  {
   "cell_type": "code",
   "execution_count": null,
   "metadata": {},
   "outputs": [],
   "source": [
    "import pandas as pd\n",
    "from sklearn.model_selection import train_test_split\n",
    "from sklearn.linear_model import LinearRegression\n",
    "from sklearn.metrics import mean_squared_error\n",
    "import numpy as np\n",
    "\n",
    "df = pd.read_csv('data/chess_positions.csv')\n",
    "\n",
    "X = df.drop(columns=['evaluation_score'])\n",
    "y = df['evaluation_score']\n",
    "\n",
    "X_train, X_test, y_train, y_test = train_test_split(X, y, test_size=0.2, random_state=42)\n",
    "\n",
    "model = LinearRegression()\n",
    "model.fit(X_train, y_train)\n",
    "\n",
    "y_pred = model.predict(X_test)\n",
    "\n",
    "mse = mean_squared_error(y_test, y_pred)\n",
    "print(f\"Mean Squared Error: {mse}\")\n",
    "\n",
    "feature_weights = pd.Series(model.coef_, index=X.columns)\n",
    "print(\"Feature Weights:\")\n",
    "print(feature_weights)\n",
    "\n",
    "normalized_weights = np.abs(feature_weights) / np.sum(np.abs(feature_weights))\n",
    "print(\"Normalized Feature Weights:\")\n",
    "print(normalized_weights)"
   ]
  }
 ],
 "metadata": {
  "kernelspec": {
   "display_name": "chess_v3.10",
   "language": "python",
   "name": "python3"
  },
  "language_info": {
   "codemirror_mode": {
    "name": "ipython",
    "version": 3
   },
   "file_extension": ".py",
   "mimetype": "text/x-python",
   "name": "python",
   "nbconvert_exporter": "python",
   "pygments_lexer": "ipython3",
   "version": "3.10.11"
  }
 },
 "nbformat": 4,
 "nbformat_minor": 2
}
