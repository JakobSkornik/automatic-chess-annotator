{
 "cells": [
  {
   "cell_type": "code",
   "execution_count": 5,
   "metadata": {},
   "outputs": [],
   "source": [
    "import sys; sys.path.append(\".\")\n",
    "\n",
    "%reload_ext autoreload\n",
    "%autoreload 2"
   ]
  },
  {
   "cell_type": "code",
   "execution_count": 6,
   "metadata": {},
   "outputs": [
    {
     "name": "stdout",
     "output_type": "stream",
     "text": [
      "Event: Rated Bullet game\n",
      "Site: https://lichess.org/6vapfe1h\n",
      "Date: ????.??.??\n",
      "White: 800\n",
      "WhiteElo: 1981\n",
      "Black: Voltvolf\n",
      "BlackElo: 1601\n",
      "Result: 1-0\n",
      "Opening: English Opening: Anglo-Indian Defense, King's Knight Variation\n"
     ]
    }
   ],
   "source": [
    "from src.pgn_reader import PGNReader\n",
    "\n",
    "pgn_file = \"data/lichess2.pgn\"\n",
    "\n",
    "# Step 1: Read PGN file\n",
    "reader = PGNReader(pgn_file)\n",
    "#interesting_games = [lichess2: [39], 1: [24], licchess: [28, 29]]\n",
    "game = reader.read_game(28)"
   ]
  },
  {
   "cell_type": "code",
   "execution_count": 7,
   "metadata": {},
   "outputs": [
    {
     "name": "stderr",
     "output_type": "stream",
     "text": [
      "  1%|          | 1/97 [00:00<00:35,  2.74it/s]"
     ]
    },
    {
     "name": "stdout",
     "output_type": "stream",
     "text": [
      "STD: 0.00, LTD: 0.00: (0.50 -> 0.50)\n",
      "Scenario 1 False False False\n",
      "Scenario 2 False False True\n",
      "Scenario 3 False True False\n"
     ]
    },
    {
     "name": "stderr",
     "output_type": "stream",
     "text": [
      "  2%|▏         | 2/97 [00:00<00:46,  2.05it/s]"
     ]
    },
    {
     "name": "stdout",
     "output_type": "stream",
     "text": [
      "STD: -0.01, LTD: -0.02: (0.50 -> 0.49)\n",
      "Scenario 1 False False False\n",
      "Scenario 2 False False True\n",
      "Scenario 3 False True False\n"
     ]
    },
    {
     "name": "stderr",
     "output_type": "stream",
     "text": [
      "  3%|▎         | 3/97 [00:01<00:53,  1.75it/s]"
     ]
    },
    {
     "name": "stdout",
     "output_type": "stream",
     "text": [
      "STD: -0.00, LTD: -0.01: (0.51 -> 0.51)\n",
      "Scenario 1 False False False\n",
      "Scenario 2 False False True\n",
      "Scenario 3 False True False\n"
     ]
    },
    {
     "name": "stderr",
     "output_type": "stream",
     "text": [
      "  4%|▍         | 4/97 [00:02<00:51,  1.82it/s]"
     ]
    },
    {
     "name": "stdout",
     "output_type": "stream",
     "text": [
      "STD: -0.01, LTD: -0.01: (0.49 -> 0.48)\n",
      "Scenario 1 False False False\n",
      "Scenario 2 False False True\n",
      "Scenario 3 False True False\n"
     ]
    },
    {
     "name": "stderr",
     "output_type": "stream",
     "text": [
      "  5%|▌         | 5/97 [00:02<00:51,  1.80it/s]"
     ]
    },
    {
     "name": "stdout",
     "output_type": "stream",
     "text": [
      "STD: -0.01, LTD: -0.01: (0.52 -> 0.50)\n",
      "Scenario 1 False False False\n",
      "Scenario 2 False False True\n",
      "Scenario 3 False True False\n"
     ]
    },
    {
     "name": "stderr",
     "output_type": "stream",
     "text": [
      "  6%|▌         | 6/97 [00:03<00:47,  1.90it/s]"
     ]
    },
    {
     "name": "stdout",
     "output_type": "stream",
     "text": [
      "STD: 0.00, LTD: -0.00: (0.50 -> 0.50)\n",
      "Scenario 1 False False False\n",
      "Scenario 2 False False True\n",
      "Scenario 3 False True False\n"
     ]
    },
    {
     "name": "stderr",
     "output_type": "stream",
     "text": [
      "  7%|▋         | 7/97 [00:03<00:51,  1.75it/s]"
     ]
    },
    {
     "name": "stdout",
     "output_type": "stream",
     "text": [
      "STD: -0.00, LTD: -0.00: (0.50 -> 0.50)\n",
      "Scenario 1 False False False\n",
      "Scenario 2 False False True\n",
      "Scenario 3 False True False\n"
     ]
    },
    {
     "name": "stderr",
     "output_type": "stream",
     "text": [
      "  8%|▊         | 8/97 [00:04<00:47,  1.87it/s]"
     ]
    },
    {
     "name": "stdout",
     "output_type": "stream",
     "text": [
      "STD: -0.00, LTD: -0.00: (0.50 -> 0.49)\n",
      "Scenario 1 False False False\n",
      "Scenario 2 False False True\n",
      "Scenario 3 False True False\n"
     ]
    },
    {
     "name": "stderr",
     "output_type": "stream",
     "text": [
      "  9%|▉         | 9/97 [00:04<00:44,  2.00it/s]"
     ]
    },
    {
     "name": "stdout",
     "output_type": "stream",
     "text": [
      "STD: -0.00, LTD: -0.01: (0.51 -> 0.50)\n",
      "Scenario 1 False False False\n",
      "Scenario 2 False False True\n",
      "Scenario 3 False True False\n"
     ]
    },
    {
     "name": "stderr",
     "output_type": "stream",
     "text": [
      " 10%|█         | 10/97 [00:05<00:48,  1.78it/s]"
     ]
    },
    {
     "name": "stdout",
     "output_type": "stream",
     "text": [
      "STD: -0.04, LTD: -0.05: (0.50 -> 0.46)\n",
      "Scenario 1 False False False\n",
      "Scenario 2 False False False\n",
      "Scenario 3 False True False\n"
     ]
    },
    {
     "name": "stderr",
     "output_type": "stream",
     "text": [
      " 11%|█▏        | 11/97 [00:06<01:10,  1.22it/s]"
     ]
    },
    {
     "name": "stdout",
     "output_type": "stream",
     "text": [
      "STD: 0.00, LTD: 0.01: (0.54 -> 0.54)\n",
      "Scenario 1 False False True\n",
      "Scenario 2 False False False\n",
      "Scenario 3 False False True\n"
     ]
    },
    {
     "name": "stderr",
     "output_type": "stream",
     "text": [
      " 12%|█▏        | 12/97 [00:07<01:06,  1.27it/s]"
     ]
    },
    {
     "name": "stdout",
     "output_type": "stream",
     "text": [
      "STD: 0.02, LTD: 0.03: (0.46 -> 0.48)\n",
      "Scenario 1 True True False\n"
     ]
    },
    {
     "name": "stderr",
     "output_type": "stream",
     "text": [
      " 13%|█▎        | 13/97 [00:08<01:04,  1.31it/s]"
     ]
    },
    {
     "name": "stdout",
     "output_type": "stream",
     "text": [
      "STD: -0.01, LTD: -0.02: (0.52 -> 0.51)\n",
      "Scenario 1 False False False\n",
      "Scenario 2 False False True\n",
      "Scenario 3 False True False\n"
     ]
    },
    {
     "name": "stderr",
     "output_type": "stream",
     "text": [
      " 14%|█▍        | 14/97 [00:08<00:50,  1.64it/s]"
     ]
    },
    {
     "name": "stdout",
     "output_type": "stream",
     "text": [
      "STD: 0.00, LTD: 0.00: (0.49 -> 0.49)\n",
      "Scenario 1 False False False\n",
      "Scenario 2 False False True\n",
      "Scenario 3 False True False\n"
     ]
    },
    {
     "name": "stderr",
     "output_type": "stream",
     "text": [
      " 15%|█▌        | 15/97 [00:08<00:44,  1.82it/s]"
     ]
    },
    {
     "name": "stdout",
     "output_type": "stream",
     "text": [
      "STD: -0.00, LTD: -0.00: (0.51 -> 0.51)\n",
      "Scenario 1 False False False\n",
      "Scenario 2 False False True\n",
      "Scenario 3 False True False\n"
     ]
    },
    {
     "name": "stderr",
     "output_type": "stream",
     "text": [
      " 16%|█▋        | 16/97 [00:09<00:41,  1.94it/s]"
     ]
    },
    {
     "name": "stdout",
     "output_type": "stream",
     "text": [
      "STD: 0.00, LTD: -0.00: (0.49 -> 0.50)\n",
      "Scenario 1 False False False\n",
      "Scenario 2 False False True\n",
      "Scenario 3 False True False\n"
     ]
    },
    {
     "name": "stderr",
     "output_type": "stream",
     "text": [
      " 18%|█▊        | 17/97 [00:09<00:40,  1.95it/s]"
     ]
    },
    {
     "name": "stdout",
     "output_type": "stream",
     "text": [
      "STD: -0.00, LTD: -0.00: (0.50 -> 0.50)\n",
      "Scenario 1 False False False\n",
      "Scenario 2 False False True\n",
      "Scenario 3 False True False\n"
     ]
    },
    {
     "name": "stderr",
     "output_type": "stream",
     "text": [
      " 19%|█▊        | 18/97 [00:10<00:47,  1.66it/s]"
     ]
    },
    {
     "name": "stdout",
     "output_type": "stream",
     "text": [
      "STD: -0.04, LTD: -0.02: (0.50 -> 0.46)\n",
      "Scenario 1 False False False\n",
      "Scenario 2 False False False\n",
      "Scenario 3 False True False\n"
     ]
    },
    {
     "name": "stderr",
     "output_type": "stream",
     "text": [
      " 20%|█▉        | 19/97 [00:11<00:45,  1.71it/s]"
     ]
    },
    {
     "name": "stdout",
     "output_type": "stream",
     "text": [
      "STD: -0.02, LTD: 0.03: (0.54 -> 0.52)\n",
      "Scenario 1 False False True\n",
      "Scenario 2 False False False\n",
      "Scenario 3 False False True\n"
     ]
    },
    {
     "name": "stderr",
     "output_type": "stream",
     "text": [
      " 22%|██▏       | 21/97 [00:12<00:42,  1.80it/s]"
     ]
    },
    {
     "name": "stdout",
     "output_type": "stream",
     "text": [
      "STD: -0.04, LTD: -0.19: (0.55 -> 0.51)\n",
      "Scenario 1 False False False\n",
      "Scenario 2 False False True\n",
      "Scenario 3 False False False\n"
     ]
    },
    {
     "name": "stderr",
     "output_type": "stream",
     "text": [
      " 25%|██▍       | 24/97 [00:13<00:32,  2.23it/s]"
     ]
    },
    {
     "name": "stdout",
     "output_type": "stream",
     "text": [
      "STD: 0.02, LTD: -0.00: (0.48 -> 0.50)\n",
      "Scenario 1 False False False\n",
      "Scenario 2 False False True\n",
      "Scenario 3 False True False\n"
     ]
    },
    {
     "name": "stderr",
     "output_type": "stream",
     "text": [
      " 37%|███▋      | 36/97 [00:18<00:16,  3.63it/s]"
     ]
    },
    {
     "name": "stdout",
     "output_type": "stream",
     "text": [
      "STD: -0.00, LTD: -0.00: (0.50 -> 0.50)\n",
      "Scenario 1 False False False\n",
      "Scenario 2 False False True\n",
      "Scenario 3 False True False\n",
      "STD: 0.00, LTD: 0.00: (0.50 -> 0.50)\n",
      "Scenario 1 False False False\n",
      "Scenario 2 False False True\n",
      "Scenario 3 False True False\n"
     ]
    },
    {
     "name": "stderr",
     "output_type": "stream",
     "text": [
      " 38%|███▊      | 37/97 [00:18<00:17,  3.35it/s]"
     ]
    },
    {
     "name": "stdout",
     "output_type": "stream",
     "text": [
      "STD: 0.00, LTD: 0.00: (0.50 -> 0.50)\n",
      "Scenario 1 False False False\n",
      "Scenario 2 False False True\n",
      "Scenario 3 False True False\n"
     ]
    },
    {
     "name": "stderr",
     "output_type": "stream",
     "text": [
      " 39%|███▉      | 38/97 [00:18<00:19,  3.04it/s]"
     ]
    },
    {
     "name": "stdout",
     "output_type": "stream",
     "text": [
      "STD: -0.00, LTD: -0.00: (0.50 -> 0.50)\n",
      "Scenario 1 False False False\n",
      "Scenario 2 False False True\n",
      "Scenario 3 False True False\n"
     ]
    },
    {
     "name": "stderr",
     "output_type": "stream",
     "text": [
      " 40%|████      | 39/97 [00:19<00:23,  2.48it/s]"
     ]
    },
    {
     "name": "stdout",
     "output_type": "stream",
     "text": [
      "STD: -0.50, LTD: -0.00: (0.50 -> 0.00)\n",
      "Scenario 1 False False False\n",
      "Scenario 2 False False False\n",
      "Scenario 3 False True False\n"
     ]
    },
    {
     "name": "stderr",
     "output_type": "stream",
     "text": [
      " 41%|████      | 40/97 [00:19<00:20,  2.82it/s]"
     ]
    },
    {
     "name": "stdout",
     "output_type": "stream",
     "text": [
      "STD: -0.50, LTD: 0.00: (1.00 -> 0.50)\n",
      "Scenario 1 False False False\n",
      "Scenario 2 False False True\n",
      "Scenario 3 False False False\n"
     ]
    },
    {
     "name": "stderr",
     "output_type": "stream",
     "text": [
      " 42%|████▏     | 41/97 [00:20<00:18,  3.05it/s]"
     ]
    },
    {
     "name": "stdout",
     "output_type": "stream",
     "text": [
      "STD: -0.00, LTD: -0.01: (0.50 -> 0.50)\n",
      "Scenario 1 False False False\n",
      "Scenario 2 False False True\n",
      "Scenario 3 False True False\n"
     ]
    },
    {
     "name": "stderr",
     "output_type": "stream",
     "text": [
      " 43%|████▎     | 42/97 [00:20<00:19,  2.82it/s]"
     ]
    },
    {
     "name": "stdout",
     "output_type": "stream",
     "text": [
      "STD: 0.00, LTD: 0.00: (0.50 -> 0.50)\n",
      "Scenario 1 False False False\n",
      "Scenario 2 False False True\n",
      "Scenario 3 False True False\n"
     ]
    },
    {
     "name": "stderr",
     "output_type": "stream",
     "text": [
      " 44%|████▍     | 43/97 [00:20<00:19,  2.76it/s]"
     ]
    },
    {
     "name": "stdout",
     "output_type": "stream",
     "text": [
      "STD: -0.00, LTD: -0.00: (0.50 -> 0.49)\n",
      "Scenario 1 False False False\n",
      "Scenario 2 False False True\n",
      "Scenario 3 False True False\n"
     ]
    },
    {
     "name": "stderr",
     "output_type": "stream",
     "text": [
      " 45%|████▌     | 44/97 [00:21<00:20,  2.57it/s]"
     ]
    },
    {
     "name": "stdout",
     "output_type": "stream",
     "text": [
      "STD: 0.00, LTD: -0.01: (0.51 -> 0.51)\n",
      "Scenario 1 False False False\n",
      "Scenario 2 False False True\n",
      "Scenario 3 False True False\n"
     ]
    },
    {
     "name": "stderr",
     "output_type": "stream",
     "text": [
      " 46%|████▋     | 45/97 [00:22<00:29,  1.76it/s]"
     ]
    },
    {
     "name": "stdout",
     "output_type": "stream",
     "text": [
      "STD: -0.18, LTD: -0.07: (0.49 -> 0.32)\n",
      "Scenario 1 False False False\n",
      "Scenario 2 False False False\n",
      "Scenario 3 False True False\n"
     ]
    },
    {
     "name": "stderr",
     "output_type": "stream",
     "text": [
      " 47%|████▋     | 46/97 [00:22<00:27,  1.86it/s]"
     ]
    },
    {
     "name": "stdout",
     "output_type": "stream",
     "text": [
      "STD: -0.11, LTD: -0.05: (0.68 -> 0.57)\n",
      "Scenario 1 False False True\n",
      "Scenario 2 False False False\n",
      "Scenario 3 False False True\n"
     ]
    },
    {
     "name": "stderr",
     "output_type": "stream",
     "text": [
      " 48%|████▊     | 47/97 [00:23<00:22,  2.19it/s]"
     ]
    },
    {
     "name": "stdout",
     "output_type": "stream",
     "text": [
      "STD: 0.05, LTD: -0.07: (0.43 -> 0.48)\n",
      "Scenario 1 True True False\n"
     ]
    },
    {
     "name": "stderr",
     "output_type": "stream",
     "text": [
      " 49%|████▉     | 48/97 [00:23<00:25,  1.92it/s]"
     ]
    },
    {
     "name": "stdout",
     "output_type": "stream",
     "text": [
      "STD: 0.07, LTD: -0.06: (0.52 -> 0.59)\n",
      "Scenario 1 True False True\n",
      "Scenario 2 True False False\n"
     ]
    },
    {
     "name": "stderr",
     "output_type": "stream",
     "text": [
      " 51%|█████     | 49/97 [00:24<00:25,  1.86it/s]"
     ]
    },
    {
     "name": "stdout",
     "output_type": "stream",
     "text": [
      "STD: 0.06, LTD: -0.01: (0.41 -> 0.47)\n",
      "Scenario 1 True True False\n",
      "Scenario 2 True True False\n",
      "Scenario 3 True False False\n"
     ]
    },
    {
     "name": "stderr",
     "output_type": "stream",
     "text": [
      " 52%|█████▏    | 50/97 [00:24<00:24,  1.94it/s]"
     ]
    },
    {
     "name": "stdout",
     "output_type": "stream",
     "text": [
      "STD: -0.02, LTD: -0.04: (0.53 -> 0.51)\n",
      "Scenario 1 False False False\n",
      "Scenario 2 False False True\n",
      "Scenario 3 False False False\n"
     ]
    },
    {
     "name": "stderr",
     "output_type": "stream",
     "text": [
      " 57%|█████▋    | 55/97 [00:27<00:20,  2.03it/s]"
     ]
    },
    {
     "name": "stdout",
     "output_type": "stream",
     "text": [
      "STD: 0.00, LTD: 0.00: (0.49 -> 0.49)\n",
      "Scenario 1 False False False\n",
      "Scenario 2 False False True\n",
      "Scenario 3 False True False\n"
     ]
    },
    {
     "name": "stderr",
     "output_type": "stream",
     "text": [
      " 58%|█████▊    | 56/97 [00:27<00:17,  2.35it/s]"
     ]
    },
    {
     "name": "stdout",
     "output_type": "stream",
     "text": [
      "STD: -0.00, LTD: -0.00: (0.51 -> 0.50)\n",
      "Scenario 1 False False False\n",
      "Scenario 2 False False True\n",
      "Scenario 3 False True False\n"
     ]
    },
    {
     "name": "stderr",
     "output_type": "stream",
     "text": [
      " 63%|██████▎   | 61/97 [00:29<00:14,  2.49it/s]"
     ]
    },
    {
     "name": "stdout",
     "output_type": "stream",
     "text": [
      "STD: -0.01, LTD: 0.00: (0.49 -> 0.48)\n",
      "Scenario 1 False False False\n",
      "Scenario 2 False False False\n",
      "Scenario 3 False True False\n"
     ]
    },
    {
     "name": "stderr",
     "output_type": "stream",
     "text": [
      " 64%|██████▍   | 62/97 [00:30<00:14,  2.40it/s]"
     ]
    },
    {
     "name": "stdout",
     "output_type": "stream",
     "text": [
      "STD: -0.01, LTD: -0.01: (0.52 -> 0.51)\n",
      "Scenario 1 False False False\n",
      "Scenario 2 False False True\n",
      "Scenario 3 False False False\n"
     ]
    },
    {
     "name": "stderr",
     "output_type": "stream",
     "text": [
      " 65%|██████▍   | 63/97 [00:30<00:14,  2.39it/s]"
     ]
    },
    {
     "name": "stdout",
     "output_type": "stream",
     "text": [
      "STD: 0.01, LTD: 0.00: (0.49 -> 0.49)\n",
      "Scenario 1 False False False\n",
      "Scenario 2 False False True\n",
      "Scenario 3 False True False\n"
     ]
    },
    {
     "name": "stderr",
     "output_type": "stream",
     "text": [
      " 67%|██████▋   | 65/97 [00:31<00:10,  3.12it/s]"
     ]
    },
    {
     "name": "stdout",
     "output_type": "stream",
     "text": [
      "STD: -0.01, LTD: -0.01: (0.51 -> 0.50)\n",
      "Scenario 1 False False False\n",
      "Scenario 2 False False True\n",
      "Scenario 3 False True False\n",
      "STD: -0.00, LTD: 0.00: (0.50 -> 0.50)\n",
      "Scenario 1 False False False\n",
      "Scenario 2 False False True\n",
      "Scenario 3 False True False\n"
     ]
    },
    {
     "name": "stderr",
     "output_type": "stream",
     "text": [
      " 69%|██████▉   | 67/97 [00:31<00:07,  3.78it/s]"
     ]
    },
    {
     "name": "stdout",
     "output_type": "stream",
     "text": [
      "STD: -0.00, LTD: -0.01: (0.50 -> 0.50)\n",
      "Scenario 1 False False False\n",
      "Scenario 2 False False True\n",
      "Scenario 3 False True False\n"
     ]
    },
    {
     "name": "stderr",
     "output_type": "stream",
     "text": [
      " 70%|███████   | 68/97 [00:31<00:08,  3.39it/s]"
     ]
    },
    {
     "name": "stdout",
     "output_type": "stream",
     "text": [
      "STD: -0.01, LTD: -0.03: (0.50 -> 0.49)\n",
      "Scenario 1 False False False\n",
      "Scenario 2 False False True\n",
      "Scenario 3 False True False\n"
     ]
    },
    {
     "name": "stderr",
     "output_type": "stream",
     "text": [
      " 72%|███████▏  | 70/97 [00:32<00:08,  3.35it/s]"
     ]
    },
    {
     "name": "stdout",
     "output_type": "stream",
     "text": [
      "STD: -0.01, LTD: -0.13: (0.48 -> 0.48)\n",
      "Scenario 1 False False False\n",
      "Scenario 2 False False False\n",
      "Scenario 3 False True False\n"
     ]
    },
    {
     "name": "stderr",
     "output_type": "stream",
     "text": [
      " 73%|███████▎  | 71/97 [00:32<00:07,  3.28it/s]"
     ]
    },
    {
     "name": "stdout",
     "output_type": "stream",
     "text": [
      "STD: -0.02, LTD: -0.15: (0.52 -> 0.50)\n",
      "Scenario 1 False False False\n",
      "Scenario 2 False False True\n",
      "Scenario 3 False False False\n"
     ]
    },
    {
     "name": "stderr",
     "output_type": "stream",
     "text": [
      " 74%|███████▍  | 72/97 [00:32<00:07,  3.56it/s]"
     ]
    },
    {
     "name": "stdout",
     "output_type": "stream",
     "text": [
      "STD: -0.12, LTD: -0.02: (0.50 -> 0.38)\n",
      "Scenario 1 False False False\n",
      "Scenario 2 False False False\n",
      "Scenario 3 False True False\n"
     ]
    },
    {
     "name": "stderr",
     "output_type": "stream",
     "text": [
      " 75%|███████▌  | 73/97 [00:33<00:06,  3.51it/s]"
     ]
    },
    {
     "name": "stdout",
     "output_type": "stream",
     "text": [
      "STD: -0.11, LTD: -0.02: (0.62 -> 0.51)\n",
      "Scenario 1 False False False\n",
      "Scenario 2 False False True\n",
      "Scenario 3 False False False\n"
     ]
    },
    {
     "name": "stderr",
     "output_type": "stream",
     "text": [
      " 79%|███████▉  | 77/97 [00:34<00:04,  4.38it/s]"
     ]
    },
    {
     "name": "stdout",
     "output_type": "stream",
     "text": [
      "STD: 0.00, LTD: 0.00: (1.00 -> 1.00)\n",
      "Scenario 1 False False True\n",
      "Scenario 2 False False False\n",
      "Scenario 3 False False True\n"
     ]
    },
    {
     "name": "stderr",
     "output_type": "stream",
     "text": [
      " 81%|████████▏ | 79/97 [00:34<00:03,  4.94it/s]"
     ]
    },
    {
     "name": "stdout",
     "output_type": "stream",
     "text": [
      "STD: 0.00, LTD: 0.00: (0.00 -> 0.00)\n",
      "Scenario 1 False True False\n",
      "Scenario 2 False True False\n",
      "Scenario 3 False False False\n",
      "STD: 0.00, LTD: 0.00: (1.00 -> 1.00)\n",
      "Scenario 1 False False True\n",
      "Scenario 2 False False False\n",
      "Scenario 3 False False True\n",
      "STD: 0.00, LTD: 0.00: (0.00 -> 0.00)\n",
      "Scenario 1 False True False\n",
      "Scenario 2 False True False\n",
      "Scenario 3 False False False\n"
     ]
    },
    {
     "name": "stderr",
     "output_type": "stream",
     "text": [
      " 85%|████████▍ | 82/97 [00:35<00:02,  5.39it/s]"
     ]
    },
    {
     "name": "stdout",
     "output_type": "stream",
     "text": [
      "STD: 0.00, LTD: 0.00: (1.00 -> 1.00)\n",
      "Scenario 1 False False True\n",
      "Scenario 2 False False False\n",
      "Scenario 3 False False True\n",
      "STD: 0.00, LTD: 0.00: (0.00 -> 0.00)\n",
      "Scenario 1 False True False\n",
      "Scenario 2 False True False\n",
      "Scenario 3 False False False\n"
     ]
    },
    {
     "name": "stderr",
     "output_type": "stream",
     "text": [
      " 87%|████████▋ | 84/97 [00:35<00:02,  5.78it/s]"
     ]
    },
    {
     "name": "stdout",
     "output_type": "stream",
     "text": [
      "STD: 0.00, LTD: 0.00: (1.00 -> 1.00)\n",
      "Scenario 1 False False True\n",
      "Scenario 2 False False False\n",
      "Scenario 3 False False True\n",
      "STD: 0.00, LTD: 0.00: (0.00 -> 0.00)\n",
      "Scenario 1 False True False\n",
      "Scenario 2 False True False\n",
      "Scenario 3 False False False\n"
     ]
    },
    {
     "name": "stderr",
     "output_type": "stream",
     "text": [
      " 88%|████████▊ | 85/97 [00:35<00:02,  5.06it/s]"
     ]
    },
    {
     "name": "stdout",
     "output_type": "stream",
     "text": [
      "STD: 0.00, LTD: 0.00: (1.00 -> 1.00)\n",
      "Scenario 1 False False True\n",
      "Scenario 2 False False False\n",
      "Scenario 3 False False True\n"
     ]
    },
    {
     "name": "stderr",
     "output_type": "stream",
     "text": [
      " 89%|████████▊ | 86/97 [00:35<00:02,  4.57it/s]"
     ]
    },
    {
     "name": "stdout",
     "output_type": "stream",
     "text": [
      "STD: 0.00, LTD: 0.00: (0.00 -> 0.00)\n",
      "Scenario 1 False True False\n",
      "Scenario 2 False True False\n",
      "Scenario 3 False False False\n"
     ]
    },
    {
     "name": "stderr",
     "output_type": "stream",
     "text": [
      " 91%|█████████ | 88/97 [00:36<00:02,  3.92it/s]"
     ]
    },
    {
     "name": "stdout",
     "output_type": "stream",
     "text": [
      "STD: 0.00, LTD: 0.00: (0.00 -> 0.00)\n",
      "Scenario 1 False True False\n",
      "Scenario 2 False True False\n",
      "Scenario 3 False False False\n"
     ]
    },
    {
     "name": "stderr",
     "output_type": "stream",
     "text": [
      " 92%|█████████▏| 89/97 [00:36<00:02,  3.61it/s]"
     ]
    },
    {
     "name": "stdout",
     "output_type": "stream",
     "text": [
      "STD: -0.00, LTD: 0.00: (1.00 -> 1.00)\n",
      "Scenario 1 False False True\n",
      "Scenario 2 False False False\n",
      "Scenario 3 False False True\n"
     ]
    },
    {
     "name": "stderr",
     "output_type": "stream",
     "text": [
      " 93%|█████████▎| 90/97 [00:37<00:02,  3.31it/s]"
     ]
    },
    {
     "name": "stdout",
     "output_type": "stream",
     "text": [
      "STD: -0.00, LTD: 0.00: (0.00 -> 0.00)\n",
      "Scenario 1 False True False\n",
      "Scenario 2 False True False\n",
      "Scenario 3 False False False\n"
     ]
    },
    {
     "name": "stderr",
     "output_type": "stream",
     "text": [
      " 94%|█████████▍| 91/97 [00:37<00:02,  2.62it/s]"
     ]
    },
    {
     "name": "stdout",
     "output_type": "stream",
     "text": [
      "STD: 0.00, LTD: 0.00: (1.00 -> 1.00)\n",
      "Scenario 1 False False True\n",
      "Scenario 2 False False False\n",
      "Scenario 3 False False True\n"
     ]
    },
    {
     "name": "stderr",
     "output_type": "stream",
     "text": [
      " 95%|█████████▍| 92/97 [00:38<00:01,  2.68it/s]"
     ]
    },
    {
     "name": "stdout",
     "output_type": "stream",
     "text": [
      "STD: 0.00, LTD: 0.00: (0.00 -> 0.00)\n",
      "Scenario 1 False True False\n",
      "Scenario 2 False True False\n",
      "Scenario 3 False False False\n"
     ]
    },
    {
     "name": "stderr",
     "output_type": "stream",
     "text": [
      " 96%|█████████▌| 93/97 [00:38<00:01,  2.28it/s]"
     ]
    },
    {
     "name": "stdout",
     "output_type": "stream",
     "text": [
      "STD: 0.00, LTD: 0.00: (1.00 -> 1.00)\n",
      "Scenario 1 False False True\n",
      "Scenario 2 False False False\n",
      "Scenario 3 False False True\n"
     ]
    },
    {
     "name": "stderr",
     "output_type": "stream",
     "text": [
      " 97%|█████████▋| 94/97 [00:38<00:01,  2.62it/s]"
     ]
    },
    {
     "name": "stdout",
     "output_type": "stream",
     "text": [
      "STD: 0.00, LTD: 0.00: (0.00 -> 0.00)\n",
      "Scenario 1 False True False\n",
      "Scenario 2 False True False\n",
      "Scenario 3 False False False\n"
     ]
    },
    {
     "name": "stderr",
     "output_type": "stream",
     "text": [
      " 98%|█████████▊| 95/97 [00:39<00:00,  2.53it/s]"
     ]
    },
    {
     "name": "stdout",
     "output_type": "stream",
     "text": [
      "STD: 0.00, LTD: 0.00: (1.00 -> 1.00)\n",
      "Scenario 1 False False True\n",
      "Scenario 2 False False False\n",
      "Scenario 3 False False True\n"
     ]
    },
    {
     "name": "stderr",
     "output_type": "stream",
     "text": [
      " 99%|█████████▉| 96/97 [00:39<00:00,  2.88it/s]"
     ]
    },
    {
     "name": "stdout",
     "output_type": "stream",
     "text": [
      "STD: 0.00, LTD: 0.00: (0.00 -> 0.00)\n",
      "Scenario 1 False True False\n",
      "Scenario 2 False True False\n",
      "Scenario 3 False False False\n"
     ]
    },
    {
     "name": "stderr",
     "output_type": "stream",
     "text": [
      "100%|██████████| 97/97 [00:40<00:00,  2.42it/s]"
     ]
    },
    {
     "name": "stdout",
     "output_type": "stream",
     "text": [
      "STD: 0.00, LTD: 0.00: (1.00 -> 1.00)\n",
      "Scenario 1 False False True\n",
      "Scenario 2 False False False\n",
      "Scenario 3 False False True\n"
     ]
    },
    {
     "name": "stderr",
     "output_type": "stream",
     "text": [
      "\n"
     ]
    }
   ],
   "source": [
    "from src.move_evaluator import MoveEvaluator\n",
    "\n",
    "# Step 2: Evaluate moves\n",
    "evaluator = MoveEvaluator()\n",
    "evaluations = evaluator.evaluate_game(game, prog_bar=True, debug=False)"
   ]
  },
  {
   "cell_type": "code",
   "execution_count": 9,
   "metadata": {},
   "outputs": [
    {
     "name": "stdout",
     "output_type": "stream",
     "text": [
      "[Event \"Rated Bullet game\"]\n",
      "[Site \"https://lichess.org/6vapfe1h\"]\n",
      "[Date \"????.??.??\"]\n",
      "[Round \"?\"]\n",
      "[White \"800\"]\n",
      "[Black \"Voltvolf\"]\n",
      "[Result \"1-0\"]\n",
      "[UTCDate \"2012.12.31\"]\n",
      "[UTCTime \"23:17:15\"]\n",
      "[WhiteElo \"1981\"]\n",
      "[BlackElo \"1601\"]\n",
      "[WhiteRatingDiff \"+2\"]\n",
      "[BlackRatingDiff \"-3\"]\n",
      "[ECO \"A15\"]\n",
      "[Opening \"English Opening: Anglo-Indian Defense, King's Knight Variation\"]\n",
      "[TimeControl \"60+1\"]\n",
      "[Termination \"Time forfeit\"]\n",
      "\n",
      "1. c4 Nf6 2. Nf3 e6 3. e3 c5 4. Nc3 Nc6 5. Be2 b6 6. O-O Bb7 { ! Turning a losing position into an equal one (0.46 -> 0.48). EP: 0.44 -> 0.48 (0.03) } 7. b3 Be7 8. Bb2 O-O 9. Rc1 e5 10. d4 e4 { ?? Leads to a significantly worse position (-0.21) with a clear better option available e5d4 (-0.00). EP: 0.45 -> 0.24 (-0.21) } 11. Ng5 { ? Missed opportunity (-0.19) to make a good move f3h4 (0.00). EP: 0.76 -> 0.57 (-0.19) } 11... cxd4 12. exd4 d5 13. cxd5 Nxd5 14. Ngxe4 Nxc3 15. Bxc3 Nxd4 16. Qxd4 Qxd4 17. Bxd4 Bxe4 18. Rc7 Bd6 19. Rd7 Bf4 20. g3 Bf5 21. Rd5 Be6 22. Rb5 Bh6 23. Bf3 Rad8 24. Be5 { ! Turning a losing position into an equal one (0.43 -> 0.48). EP: 0.48 -> 0.41 (-0.07) } 24... Rd2 { ! Turning a drawn position into a winning one (0.52 -> 0.59). EP: 0.59 -> 0.53 (-0.06) } 25. a4 g6 26. Kg2 { ?? Leads to a significantly worse position (-0.28) with a clear better option available a4a5 (-0.00). EP: 0.50 -> 0.22 (-0.28) } 26... Bg7 { ?? Leads to a significantly worse position (-0.27) with a clear better option available f8e8 (-0.01). EP: 0.78 -> 0.51 (-0.27) } 27. Bxg7 Kxg7 28. a5 Rb8 29. axb6 Rxb6 30. Rxb6 axb6 31. Rb1 Rd3 32. b4 b5 33. Be2 Bd5+ 34. Kf1 Rc3 35. Bxb5 Be4 { ? Missed opportunity (-0.13) to make a good move c3c2 (0.00). EP: 0.48 -> 0.35 (-0.13) } 36. Re1 { ? Missed opportunity (-0.15) to make a good move b1b2 (0.00). EP: 0.65 -> 0.50 (-0.15) } 36... Bd5 37. Be2 Bc4 { ?? Leads to a significantly worse position (-0.49) with a clear better option available c3b3 (-0.00). EP: 0.49 -> 0.00 (-0.49) } 38. Bxc4 Rxc4 39. Rb1 Rc6 40. b5 Rb6 41. Ke2 Kf6 42. Kd3 Ke6 43. Kc4 Kd6 44. Rd1+ Kc7 45. Re1 Kd6 46. Kb4 h5 47. f4 f5 48. Re5 Kc7 49. Kc5 1-0\n"
     ]
    }
   ],
   "source": [
    "from src.annotator import Annotator\n",
    "\n",
    "# Step 3: Annotate the game\n",
    "annotator = Annotator(evaluations)\n",
    "annotated_game = annotator.annotate_game(game, debug=False)\n",
    "print(annotated_game)"
   ]
  }
 ],
 "metadata": {
  "kernelspec": {
   "display_name": "chess_v3.10",
   "language": "python",
   "name": "python3"
  },
  "language_info": {
   "codemirror_mode": {
    "name": "ipython",
    "version": 3
   },
   "file_extension": ".py",
   "mimetype": "text/x-python",
   "name": "python",
   "nbconvert_exporter": "python",
   "pygments_lexer": "ipython3",
   "version": "3.10.11"
  }
 },
 "nbformat": 4,
 "nbformat_minor": 2
}
