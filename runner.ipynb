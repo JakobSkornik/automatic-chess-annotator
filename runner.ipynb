{
 "cells": [
  {
   "cell_type": "code",
   "execution_count": 5,
   "metadata": {},
   "outputs": [],
   "source": [
    "import sys; sys.path.append(\".\")\n",
    "\n",
    "%reload_ext autoreload\n",
    "%autoreload 2"
   ]
  },
  {
   "cell_type": "code",
   "execution_count": 19,
   "metadata": {},
   "outputs": [
    {
     "name": "stdout",
     "output_type": "stream",
     "text": [
      "Event: Ljubljana Open 2024\n",
      "Site: Ljubljana SLO\n",
      "Date: 2024.04.27\n",
      "White: Vaupot,Kajetan\n",
      "WhiteElo: 1811\n",
      "Black: Unuk,Laura\n",
      "BlackElo: 2338\n",
      "Result: 0-1\n",
      "Opening: Catalan\n"
     ]
    }
   ],
   "source": [
    "from src.pgn_reader import PGNReader\n",
    "\n",
    "# Interesting Games\n",
    "# - lichess: [28, 29]]\n",
    "# - lichess2: [39],\n",
    "# - 1: [24],\n",
    "# - 3: [302], LJUBLJANA OPEN 2024\n",
    "\n",
    "file = \"3\"\n",
    "pgn_file = f\"data/{file}.pgn\"\n",
    "game_number = 302\n",
    "\n",
    "# Step 1: Read PGN file\n",
    "reader = PGNReader(pgn_file)\n",
    "game = reader.read_game(game_number)"
   ]
  },
  {
   "cell_type": "code",
   "execution_count": 17,
   "metadata": {},
   "outputs": [
    {
     "name": "stderr",
     "output_type": "stream",
     "text": [
      "100%|██████████| 60/60 [00:30<00:00,  1.99it/s]\n"
     ]
    }
   ],
   "source": [
    "from src.move_evaluator import MoveEvaluator\n",
    "\n",
    "# Step 2: Evaluate moves\n",
    "evaluator = MoveEvaluator()\n",
    "evaluations = evaluator.evaluate_game(game, prog_bar=True, debug=False)"
   ]
  },
  {
   "cell_type": "code",
   "execution_count": 18,
   "metadata": {},
   "outputs": [
    {
     "name": "stdout",
     "output_type": "stream",
     "text": [
      "[Event \"Ljubljana Open 2024\"]\n",
      "[Site \"Ljubljana SLO\"]\n",
      "[Date \"2024.04.27\"]\n",
      "[Round \"1.16\"]\n",
      "[White \"Vaupot,Kajetan\"]\n",
      "[Black \"Unuk,Laura\"]\n",
      "[Result \"0-1\"]\n",
      "[BlackTitle \"IM\"]\n",
      "[WhiteElo \"1811\"]\n",
      "[BlackElo \"2338\"]\n",
      "[ECO \"E04\"]\n",
      "[Opening \"Catalan\"]\n",
      "[Variation \"open, 5.Nf3\"]\n",
      "[WhiteFideId \"14641003\"]\n",
      "[BlackFideId \"14609215\"]\n",
      "[EventDate \"2024.04.27\"]\n",
      "\n",
      "1. d4 d5 2. c4 e6 3. Nf3 Nf6 4. g3 dxc4 5. Bg2 Bb4+ 6. Bd2 a5 7. O-O O-O 8. Bxb4 axb4 9. Ne5 Nc6 10. Nxc6 bxc6 11. Bxc6 Ra5 12. e3 { ?? Missed opportunity (-0.43) to make a neutral or good move a2a3 (0.01) and heavily tanking your score. EP: 0.47 -> 0.04 (-0.43) } 12... Ba6 { ?? Missed opportunity (-0.24) to make a neutral or good move e6e5 (0.00) and heavily tanking your score. EP: 0.96 -> 0.72 (-0.24) } 13. Qc1 Nd5 { ?? Leads to a significantly worse position (-0.30) with a clear better option available d8d6 (-0.03). EP: 0.81 -> 0.51 (-0.30) } 14. Nd2 Nb6 15. Rd1 Qe7 { ? Leads to a slightly worse position (0.49 -> 0.37). EP: 0.49 -> 0.37 (-0.12) } 16. Ne4 Rb8 17. Nc5 Bb5 18. Bxb5 Rxb5 19. a4 Ra5 20. Qd2 Nd5 21. e4 { ?? Missed opportunity (-0.27) to make a neutral or good move a1b1 (0.00) and heavily tanking your score. EP: 0.50 -> 0.23 (-0.27) } 21... c3 { ? Leads to a slightly worse position (0.77 -> 0.64). EP: 0.77 -> 0.64 (-0.13) } 22. Qc1 { ? Leads to a slightly worse position (0.36 -> 0.26). EP: 0.36 -> 0.26 (-0.10) } 22... cxb2 23. Qxb2 Nc3 { ! The only positive move among possible variations. EP: 0.65 -> 0.78 (0.13) } 24. Rdc1 { ? Missed opportunity (-0.15) to make a good move d1d3 (0.00). EP: 0.22 -> 0.07 (-0.15) } 24... Rb6 { ?? Leads to a significantly worse position (-0.39) with a clear better option available e7d6 (-0.02). EP: 0.93 -> 0.53 (-0.39) } 25. Kg2 { ? Leads to a slightly worse position (0.47 -> 0.31). EP: 0.47 -> 0.31 (-0.15) } 25... h5 { ? Missed opportunity (-0.17) to make a good move e6e5 (0.00). EP: 0.69 -> 0.52 (-0.17) } 26. e5 { ?? Missed opportunity (-0.47) to make a neutral or good move c1c3 (0.00) and heavily tanking your score. EP: 0.48 -> 0.01 (-0.47) } 26... Qd8 27. Qd2 Rxc5 28. dxc5 Qxd2 29. cxb6 cxb6 30. Re1 b3 0-1\n"
     ]
    }
   ],
   "source": [
    "from src.annotator import Annotator\n",
    "\n",
    "# Step 3: Annotate the game\n",
    "annotator = Annotator(evaluations)\n",
    "annotated_game = annotator.annotate_game(game, debug=False)\n",
    "print(annotated_game)"
   ]
  }
 ],
 "metadata": {
  "kernelspec": {
   "display_name": "chess_v3.10",
   "language": "python",
   "name": "python3"
  },
  "language_info": {
   "codemirror_mode": {
    "name": "ipython",
    "version": 3
   },
   "file_extension": ".py",
   "mimetype": "text/x-python",
   "name": "python",
   "nbconvert_exporter": "python",
   "pygments_lexer": "ipython3",
   "version": "3.10.11"
  }
 },
 "nbformat": 4,
 "nbformat_minor": 2
}
